{
  "cells": [
    {
      "cell_type": "markdown",
      "id": "df1e8683",
      "metadata": {
        "id": "df1e8683"
      },
      "source": [
        "# Evaluating the applicants for the Data Science program (2022) *\n",
        "\n",
        "\n",
        "Denise Carneiro\n",
        "\n",
        "*This project is entirely fictional, and all data presented is fabricated. It does not reflect any real-life project or individuals."
      ]
    },
    {
      "cell_type": "markdown",
      "id": "49a17692",
      "metadata": {
        "id": "49a17692"
      },
      "source": [
        "## Explanation of the project "
      ]
    },
    {
      "cell_type": "markdown",
      "id": "8aef84f3",
      "metadata": {
        "id": "8aef84f3"
      },
      "source": [
        "The objective of this project is to build a candidate selection model for the Data Science program at the University of the Pacific. For this, we extract some information from fields indicated in the forms such as \"Skills\", \"GPA\" and \"Academic Records\".\n",
        "\n",
        "The first model only considers the candidate's skills. Thus, we extract the contents of the \"Skills\" field and the contents of the Criteria for Admission. For each match between a desired skill that the candidate has, one point was added. After that, we built a ranking of candidates by the number of points obtained (score) and generate a file with the candidates that have the 5 best scores.\n",
        "\n",
        "In the second model, we also consider GPA and Academic Record. For each desired course (from the Academic_records_extra file), the candidate got one more point in the score. In addition, candidates with a GPA of 4.5 or above earned 2 extra points, and candidates with a GPA between 3.5 and 4.5 earned an extra point.\n",
        "\n",
        "Additionally, we did some data cleaning to obtain candidates' contact details and full name.\n",
        "\n",
        "The project was developed in python on the Google Colab platform.\n"
      ]
    },
    {
      "cell_type": "markdown",
      "id": "38628c4e",
      "metadata": {
        "id": "38628c4e"
      },
      "source": [
        "## Explanation of data sources "
      ]
    },
    {
      "cell_type": "markdown",
      "id": "b71a286f",
      "metadata": {
        "id": "b71a286f"
      },
      "source": [
        "Fifteen application forms were used for the selection. The forms contain various data, such as name, \n",
        "email, phone, address, last jobs, etc. All these forms were opened using the Candidates.csv file, which contains the name of the candidates and the name of their respective application form.\n",
        "\n",
        "In addition, the desired skills were extracted from the Criteria_for_Admission.csv file, which contains a list of the desired skills.\n",
        "\n",
        "The ranking of the top 5 candidates was exported to a file called ToAccept.csv\n",
        "\n",
        "In the second model, data extracted from the \"Academic Record\" field of the candidates' forms were used. We also used a file called Academic_records_extra to extract data from desired courses in the \"Academic Record\" field of candidates.\n"
      ]
    },
    {
      "cell_type": "code",
      "execution_count": null,
      "id": "dd9ad6de",
      "metadata": {
        "id": "dd9ad6de"
      },
      "outputs": [],
      "source": [
        "import pandas as pd\n",
        "import re\n",
        "import numpy as np"
      ]
    },
    {
      "cell_type": "markdown",
      "id": "673c2ff5",
      "metadata": {
        "id": "673c2ff5"
      },
      "source": [
        "The file that contains the candidades' names and files (Candidates.cvs) is read and showed."
      ]
    },
    {
      "cell_type": "code",
      "execution_count": null,
      "id": "b51b08b2",
      "metadata": {
        "id": "b51b08b2"
      },
      "outputs": [],
      "source": [
        "# We used sep = ';' because the delimiter used to build Candidades.csv \n",
        "#was ';' instead of the default ','\n",
        "# skiprows = 3 shipt the 3 first headers\n",
        "candidates = pd.read_csv('Candidates.csv', sep = ';', skiprows = 3)"
      ]
    },
    {
      "cell_type": "code",
      "execution_count": null,
      "id": "e2992bcd",
      "metadata": {
        "id": "e2992bcd",
        "outputId": "2411a9cf-8867-463d-aadb-a60c1a16dede"
      },
      "outputs": [
        {
          "data": {
            "text/html": [
              "<div>\n",
              "<style scoped>\n",
              "    .dataframe tbody tr th:only-of-type {\n",
              "        vertical-align: middle;\n",
              "    }\n",
              "\n",
              "    .dataframe tbody tr th {\n",
              "        vertical-align: top;\n",
              "    }\n",
              "\n",
              "    .dataframe thead th {\n",
              "        text-align: right;\n",
              "    }\n",
              "</style>\n",
              "<table border=\"1\" class=\"dataframe\">\n",
              "  <thead>\n",
              "    <tr style=\"text-align: right;\">\n",
              "      <th></th>\n",
              "      <th>Candidate Name</th>\n",
              "      <th>File Name</th>\n",
              "    </tr>\n",
              "  </thead>\n",
              "  <tbody>\n",
              "    <tr>\n",
              "      <th>0</th>\n",
              "      <td>Ana Cavalcante</td>\n",
              "      <td>Candidate_1.txt</td>\n",
              "    </tr>\n",
              "    <tr>\n",
              "      <th>1</th>\n",
              "      <td>Andrea Faria</td>\n",
              "      <td>Candidate_2.txt</td>\n",
              "    </tr>\n",
              "    <tr>\n",
              "      <th>2</th>\n",
              "      <td>Agnes Navarro</td>\n",
              "      <td>Candidate_3.txt</td>\n",
              "    </tr>\n",
              "    <tr>\n",
              "      <th>3</th>\n",
              "      <td>Cintia Oliveira</td>\n",
              "      <td>Candidate_4.txt</td>\n",
              "    </tr>\n",
              "    <tr>\n",
              "      <th>4</th>\n",
              "      <td>Julian Solo</td>\n",
              "      <td>Candidate_5.txt</td>\n",
              "    </tr>\n",
              "  </tbody>\n",
              "</table>\n",
              "</div>"
            ],
            "text/plain": [
              "    Candidate Name        File Name\n",
              "0   Ana Cavalcante  Candidate_1.txt\n",
              "1     Andrea Faria  Candidate_2.txt\n",
              "2    Agnes Navarro  Candidate_3.txt\n",
              "3  Cintia Oliveira  Candidate_4.txt\n",
              "4      Julian Solo  Candidate_5.txt"
            ]
          },
          "execution_count": 3,
          "metadata": {},
          "output_type": "execute_result"
        }
      ],
      "source": [
        "candidates.head()"
      ]
    },
    {
      "cell_type": "markdown",
      "id": "351e6128",
      "metadata": {
        "id": "351e6128"
      },
      "source": [
        "## Cleanup"
      ]
    },
    {
      "cell_type": "markdown",
      "id": "7b853117",
      "metadata": {
        "id": "7b853117"
      },
      "source": [
        "In the form, the candidates was requered to write their e-mails and the university would like to update them about their applications by email. Nonetheless, there was some omissions. So the university will phone just those who did not write an email. We have to do some data cleaning."
      ]
    },
    {
      "cell_type": "markdown",
      "id": "ad250776",
      "metadata": {
        "id": "ad250776"
      },
      "source": [
        "This function get_phone will be used just for those who don't have an valid email."
      ]
    },
    {
      "cell_type": "code",
      "execution_count": null,
      "id": "9443cd7a",
      "metadata": {
        "id": "9443cd7a"
      },
      "outputs": [],
      "source": [
        "def get_phone (n_candidate):\n",
        "    form = open(candidates['File Name'][n_candidate], 'r')\n",
        "    candidate_form = form.read()\n",
        "    regex=r'[0-9]{3}-[0-9]{3}-[0-9]{4}'\n",
        "    phone=re.findall(regex,candidate_form)\n",
        "    form.close()\n",
        "    return phone"
      ]
    },
    {
      "cell_type": "markdown",
      "id": "d246a88b",
      "metadata": {
        "id": "d246a88b"
      },
      "source": [
        "This function get_email will look for an valid e-mail for all candidates. If there is no valid e-mail, the function will call the function above (get_phone) and return a phone number instead."
      ]
    },
    {
      "cell_type": "code",
      "execution_count": null,
      "id": "2c97237e",
      "metadata": {
        "id": "2c97237e"
      },
      "outputs": [],
      "source": [
        "def get_email (n_candidate):\n",
        "    form = open(candidates['File Name'][n_candidate], 'r')\n",
        "    candidate_form = form.read()\n",
        "    regex=r'[A-Za-z0-9._]+@[A-Za-z0-9.-]+\\.com' \n",
        "    email=re.findall(regex,candidate_form)\n",
        "    form.close()\n",
        "    if email:\n",
        "        return email\n",
        "    else:\n",
        "        return(get_phone(n_candidate))"
      ]
    },
    {
      "cell_type": "markdown",
      "id": "bd52c031",
      "metadata": {
        "id": "bd52c031"
      },
      "source": [
        "The code below calls the function get_email and build a contact list of e-mails or phones. There will be phones just for those who doesn't have an valid e-mail."
      ]
    },
    {
      "cell_type": "code",
      "execution_count": null,
      "id": "4e6aca2f",
      "metadata": {
        "id": "4e6aca2f"
      },
      "outputs": [],
      "source": [
        "contacts = []\n",
        "for n_candidate in range(len(candidates)):\n",
        "    contacts.append(get_email(n_candidate))"
      ]
    },
    {
      "cell_type": "markdown",
      "id": "55173213",
      "metadata": {
        "id": "55173213"
      },
      "source": [
        "As is showed below, just 3 candidates have no a valid e-mail (candidates 3, 11 and 15), so for them we replaced a contact email by their phones."
      ]
    },
    {
      "cell_type": "code",
      "execution_count": null,
      "id": "bfd2d6f2",
      "metadata": {
        "id": "bfd2d6f2",
        "outputId": "61de1599-b87d-4335-8cfc-455f767fce2f"
      },
      "outputs": [
        {
          "data": {
            "text/plain": [
              "[['ac_calvacante@gmail.com'],\n",
              " ['andfafa@outlook.com'],\n",
              " ['563-874-7354'],\n",
              " ['oliva.cintia@gmail.com'],\n",
              " ['so_ju_lo@outlook.com'],\n",
              " ['jsc_carter@gmail.com'],\n",
              " ['jesseb@gmail.com'],\n",
              " ['melanieb@gmail.com'],\n",
              " ['susan_salmon@gmail.com'],\n",
              " ['thomasadler@gmail.com'],\n",
              " ['453-434-4343'],\n",
              " ['rajesh638736@gmail.com'],\n",
              " ['a987gozales@gmail.com'],\n",
              " ['jairmbolsonaro@gmail.com'],\n",
              " ['232-234-3365']]"
            ]
          },
          "execution_count": 7,
          "metadata": {},
          "output_type": "execute_result"
        }
      ],
      "source": [
        "contacts"
      ]
    },
    {
      "cell_type": "markdown",
      "id": "bad2d9f8",
      "metadata": {
        "id": "bad2d9f8"
      },
      "source": [
        "A department of the university requered the candidate's full names. But on the file Candidates there is just the first and the last name of each candidate. For get the candidate's full names, we have also to do some data cleaning because some candidates have no middle names."
      ]
    },
    {
      "cell_type": "markdown",
      "id": "bdda1608",
      "metadata": {
        "id": "bdda1608"
      },
      "source": [
        "This function get the full name of the candidate."
      ]
    },
    {
      "cell_type": "code",
      "execution_count": null,
      "id": "d805c4db",
      "metadata": {
        "id": "d805c4db"
      },
      "outputs": [],
      "source": [
        "def fullname (candidate_form):\n",
        "    form = open(candidates['File Name'][n_candidate], 'r')\n",
        "    candidate_form = form.read()\n",
        "    regex=r'(?<=First Name:)(?:\\s)*\\w+' \n",
        "    f_name=re.findall(regex,candidate_form)\n",
        "    regex=r'(?<=Last Name:)(?:\\s)*\\w+'\n",
        "    l_name=re.findall(regex,candidate_form)\n",
        "    #If there is not a middle name, the algorithm will not get it \n",
        "    regex=r'Middle Name:(.*?)Last Name:' \n",
        "    m_name=re.findall(regex,candidate_form)\n",
        "    fullname= f_name + m_name + l_name\n",
        "    form.close()\n",
        "    return(''.join(fullname))"
      ]
    },
    {
      "cell_type": "markdown",
      "id": "bfda5762",
      "metadata": {
        "id": "bfda5762"
      },
      "source": [
        "This code build a list with the candidate's full names."
      ]
    },
    {
      "cell_type": "code",
      "execution_count": null,
      "id": "c229d550",
      "metadata": {
        "id": "c229d550"
      },
      "outputs": [],
      "source": [
        "fullnames = []\n",
        "for n_candidate in range(len(candidates)):\n",
        "    fullnames.append(fullname(n_candidate))"
      ]
    },
    {
      "cell_type": "markdown",
      "id": "4eaf6b1c",
      "metadata": {
        "id": "4eaf6b1c"
      },
      "source": [
        "The candidate's full names are showed below."
      ]
    },
    {
      "cell_type": "code",
      "execution_count": null,
      "id": "23e05a21",
      "metadata": {
        "id": "23e05a21",
        "outputId": "e1455023-912b-469e-bf5d-4a2ad1c1ae52"
      },
      "outputs": [
        {
          "data": {
            "text/plain": [
              "[' Ana Clara   Cavalcante',\n",
              " ' Andrea Farina  Faria',\n",
              " 'Agnes  Navarro',\n",
              " ' Cintia  Oliveira',\n",
              " ' Julian  Solo',\n",
              " '   John Smith  Carter',\n",
              " ' Jesse   Balduco',\n",
              " ' Melanie Ellis  Keller',\n",
              " ' Susan Ellis  Salmon',\n",
              " ' Thomas Keller  Adler',\n",
              " ' Thomas   Gasper',\n",
              " ' Rajesh   Koothrappali',\n",
              " ' Alice Hayes  Gonzales',\n",
              " ' Jair Messias  Bolsonaro',\n",
              " ' Justin Adler  Adams']"
            ]
          },
          "execution_count": 10,
          "metadata": {},
          "output_type": "execute_result"
        }
      ],
      "source": [
        "fullnames"
      ]
    },
    {
      "cell_type": "markdown",
      "id": "8a0d8846",
      "metadata": {
        "id": "8a0d8846"
      },
      "source": [
        "## Algorithm that looks for the skills and make a list of the best candidates"
      ]
    },
    {
      "cell_type": "markdown",
      "id": "c9b70e5c",
      "metadata": {
        "id": "c9b70e5c"
      },
      "source": [
        "The file that contains the criteria for admission is read as 'criteria'."
      ]
    },
    {
      "cell_type": "code",
      "execution_count": null,
      "id": "328f481c",
      "metadata": {
        "id": "328f481c"
      },
      "outputs": [],
      "source": [
        "criteria = pd.read_csv('Criteria_for_Admission.csv')"
      ]
    },
    {
      "cell_type": "code",
      "execution_count": null,
      "id": "2d8eaf26",
      "metadata": {
        "id": "2d8eaf26",
        "outputId": "25945750-66da-4954-f8cb-f58be8bd7232"
      },
      "outputs": [
        {
          "data": {
            "text/html": [
              "<div>\n",
              "<style scoped>\n",
              "    .dataframe tbody tr th:only-of-type {\n",
              "        vertical-align: middle;\n",
              "    }\n",
              "\n",
              "    .dataframe tbody tr th {\n",
              "        vertical-align: top;\n",
              "    }\n",
              "\n",
              "    .dataframe thead th {\n",
              "        text-align: right;\n",
              "    }\n",
              "</style>\n",
              "<table border=\"1\" class=\"dataframe\">\n",
              "  <thead>\n",
              "    <tr style=\"text-align: right;\">\n",
              "      <th></th>\n",
              "      <th>Skills</th>\n",
              "    </tr>\n",
              "  </thead>\n",
              "  <tbody>\n",
              "    <tr>\n",
              "      <th>0</th>\n",
              "      <td>R</td>\n",
              "    </tr>\n",
              "    <tr>\n",
              "      <th>1</th>\n",
              "      <td>PYTHON</td>\n",
              "    </tr>\n",
              "    <tr>\n",
              "      <th>2</th>\n",
              "      <td>SQL</td>\n",
              "    </tr>\n",
              "    <tr>\n",
              "      <th>3</th>\n",
              "      <td>STATISTICS</td>\n",
              "    </tr>\n",
              "    <tr>\n",
              "      <th>4</th>\n",
              "      <td>PROGRAMMING</td>\n",
              "    </tr>\n",
              "    <tr>\n",
              "      <th>5</th>\n",
              "      <td>DATA WRANGLING</td>\n",
              "    </tr>\n",
              "    <tr>\n",
              "      <th>6</th>\n",
              "      <td>MACHINE LEARNING</td>\n",
              "    </tr>\n",
              "    <tr>\n",
              "      <th>7</th>\n",
              "      <td>CALCULUS</td>\n",
              "    </tr>\n",
              "  </tbody>\n",
              "</table>\n",
              "</div>"
            ],
            "text/plain": [
              "             Skills\n",
              "0                 R\n",
              "1            PYTHON\n",
              "2               SQL\n",
              "3        STATISTICS\n",
              "4       PROGRAMMING\n",
              "5    DATA WRANGLING\n",
              "6  MACHINE LEARNING\n",
              "7          CALCULUS"
            ]
          },
          "execution_count": 12,
          "metadata": {},
          "output_type": "execute_result"
        }
      ],
      "source": [
        "criteria"
      ]
    },
    {
      "cell_type": "markdown",
      "id": "aaffe42e",
      "metadata": {
        "id": "aaffe42e"
      },
      "source": [
        "A function was defined to find the skills that matches with the criterias."
      ]
    },
    {
      "cell_type": "code",
      "execution_count": null,
      "id": "fb37a894",
      "metadata": {
        "id": "fb37a894"
      },
      "outputs": [],
      "source": [
        "#criteria is the skill that function is going to look for\n",
        "#i is the position of the candidate at the list candidates\n",
        "def find_Skill(criteria, i):\n",
        "    form = open(candidates['File Name'][i], 'r')\n",
        "    candidate_form = form.read()\n",
        "    #First, the field \"Skills\" are separaded in the variavel skills_of_candidate\n",
        "    #Because we will look for the criteria just on the field Skill\n",
        "    skills_of_candidate =re.search(r'Skills:(?:\\s)*(?:\\n)*(.*?)(?:\\s)*(?:\\n)*Passion:', candidate_form).group(1)\n",
        "    #The funtion below makes all the text in upper case, so it can match lower and upper cases \n",
        "    #for example, if the candidate typed Python, python or even PYthon\n",
        "    skills_of_candidate =  ' '+ skills_of_candidate.upper() \n",
        "    #The code below find the criteria on the field Skills, that is into skills_of_candidate\n",
        "    regex = r'(?:\\s)' + criteria + r'[\\s,.]'\n",
        "    all_skills=re.findall(regex,skills_of_candidate)\n",
        "    form.close()\n",
        "    #if there was a match, it will return 1, which will be added to the score of the candidate\n",
        "    #if there was not a match, it will be zero\n",
        "    if all_skills: \n",
        "        return 1\n",
        "    else:\n",
        "        return 0"
      ]
    },
    {
      "cell_type": "markdown",
      "id": "f138d6ab",
      "metadata": {
        "id": "f138d6ab"
      },
      "source": [
        "The code below creates a array of zeros. It has the same len as candidates and will keep the score of each candidade."
      ]
    },
    {
      "cell_type": "code",
      "execution_count": null,
      "id": "c8e3d16d",
      "metadata": {
        "id": "c8e3d16d"
      },
      "outputs": [],
      "source": [
        "candidate_score = np.zeros(shape=len(candidates))"
      ]
    },
    {
      "cell_type": "markdown",
      "id": "c511880b",
      "metadata": {
        "id": "c511880b"
      },
      "source": [
        "The first 'for' loops the criterias. The second one loops the candidates. So it looks for a criteria in each candidate. Then, it added a score for each candidate, that will be 1 if the skill matches and 0 if not."
      ]
    },
    {
      "cell_type": "code",
      "execution_count": null,
      "id": "72a417c8",
      "metadata": {
        "id": "72a417c8"
      },
      "outputs": [],
      "source": [
        "for c in range(len(criteria)):\n",
        "    for n_candidate in range(len(candidates)):\n",
        "        match = find_Skill(criteria['Skills'][c], n_candidate)\n",
        "        candidate_score[n_candidate] = candidate_score[n_candidate] + match"
      ]
    },
    {
      "cell_type": "markdown",
      "id": "2aa07c61",
      "metadata": {
        "id": "2aa07c61"
      },
      "source": [
        "Below it is showed the scores of the candidates. It means how many times a criteria was matched in each candidate."
      ]
    },
    {
      "cell_type": "code",
      "execution_count": null,
      "id": "a85499fb",
      "metadata": {
        "id": "a85499fb",
        "outputId": "c0a9ebf4-dac0-4afe-ee69-9f74b9ed9a64"
      },
      "outputs": [
        {
          "data": {
            "text/plain": [
              "array([0., 2., 3., 3., 4., 5., 6., 1., 4., 0., 7., 4., 6., 2., 5.])"
            ]
          },
          "execution_count": 16,
          "metadata": {},
          "output_type": "execute_result"
        }
      ],
      "source": [
        "candidate_score"
      ]
    },
    {
      "cell_type": "markdown",
      "id": "9deeb196",
      "metadata": {
        "id": "9deeb196"
      },
      "source": [
        "The list List_of_skills will keep all skills matched by each candidate. "
      ]
    },
    {
      "cell_type": "code",
      "execution_count": null,
      "id": "5a72abfe",
      "metadata": {
        "id": "5a72abfe"
      },
      "outputs": [],
      "source": [
        "List_of_skills = []"
      ]
    },
    {
      "cell_type": "code",
      "execution_count": null,
      "id": "347a0e80",
      "metadata": {
        "id": "347a0e80"
      },
      "outputs": [],
      "source": [
        "#It works equal the function find_Skill, but now we will make a list of skills intead of just sum them\n",
        "for cand in range(len(candidates)):\n",
        "    list1 = []\n",
        "    for crit in range(len(criteria)):\n",
        "        form = open(candidates['File Name'][cand], 'r')\n",
        "        candidate_form = form.read()\n",
        "        skills_of_candidate =re.search(r'Skills:(?:\\s)*(?:\\n)*(.*?)(?:\\s)*(?:\\n)*Passion:', candidate_form).group(1)\n",
        "        skills_of_candidate =  ' '+ skills_of_candidate.upper() \n",
        "        regex = r'(?:\\s)' + criteria['Skills'][crit] + r'[\\s,.]'\n",
        "        all_skills=re.findall(regex,skills_of_candidate)\n",
        "        if all_skills:\n",
        "            list1.append(criteria['Skills'][crit])\n",
        "        form.close()\n",
        "    #.join transform the list1 in a string\n",
        "    List_of_skills.append(\". \".join(list1))"
      ]
    },
    {
      "cell_type": "markdown",
      "id": "5b029708",
      "metadata": {
        "id": "5b029708"
      },
      "source": [
        "Join all the data we have into the same DataFrame."
      ]
    },
    {
      "cell_type": "code",
      "execution_count": null,
      "id": "658eb320",
      "metadata": {
        "id": "658eb320",
        "outputId": "75f502cf-8f01-40a8-e8de-b5400059a610"
      },
      "outputs": [
        {
          "data": {
            "text/html": [
              "<div>\n",
              "<style scoped>\n",
              "    .dataframe tbody tr th:only-of-type {\n",
              "        vertical-align: middle;\n",
              "    }\n",
              "\n",
              "    .dataframe tbody tr th {\n",
              "        vertical-align: top;\n",
              "    }\n",
              "\n",
              "    .dataframe thead th {\n",
              "        text-align: right;\n",
              "    }\n",
              "</style>\n",
              "<table border=\"1\" class=\"dataframe\">\n",
              "  <thead>\n",
              "    <tr style=\"text-align: right;\">\n",
              "      <th></th>\n",
              "      <th>File</th>\n",
              "      <th>Name</th>\n",
              "      <th>Score</th>\n",
              "      <th>Skills</th>\n",
              "    </tr>\n",
              "  </thead>\n",
              "  <tbody>\n",
              "    <tr>\n",
              "      <th>0</th>\n",
              "      <td>Candidate_1.txt</td>\n",
              "      <td>Ana Cavalcante</td>\n",
              "      <td>0.0</td>\n",
              "      <td></td>\n",
              "    </tr>\n",
              "    <tr>\n",
              "      <th>1</th>\n",
              "      <td>Candidate_2.txt</td>\n",
              "      <td>Andrea Faria</td>\n",
              "      <td>2.0</td>\n",
              "      <td>R. PYTHON</td>\n",
              "    </tr>\n",
              "    <tr>\n",
              "      <th>2</th>\n",
              "      <td>Candidate_3.txt</td>\n",
              "      <td>Agnes Navarro</td>\n",
              "      <td>3.0</td>\n",
              "      <td>R. PYTHON. SQL</td>\n",
              "    </tr>\n",
              "    <tr>\n",
              "      <th>3</th>\n",
              "      <td>Candidate_4.txt</td>\n",
              "      <td>Cintia Oliveira</td>\n",
              "      <td>3.0</td>\n",
              "      <td>R. STATISTICS. CALCULUS</td>\n",
              "    </tr>\n",
              "    <tr>\n",
              "      <th>4</th>\n",
              "      <td>Candidate_5.txt</td>\n",
              "      <td>Julian Solo</td>\n",
              "      <td>4.0</td>\n",
              "      <td>R. PYTHON. STATISTICS. CALCULUS</td>\n",
              "    </tr>\n",
              "    <tr>\n",
              "      <th>5</th>\n",
              "      <td>Candidate_6.txt</td>\n",
              "      <td>John Carter</td>\n",
              "      <td>5.0</td>\n",
              "      <td>R. PYTHON. PROGRAMMING. DATA WRANGLING. MACHIN...</td>\n",
              "    </tr>\n",
              "    <tr>\n",
              "      <th>6</th>\n",
              "      <td>Candidate_7.txt</td>\n",
              "      <td>Jesse Balduco</td>\n",
              "      <td>6.0</td>\n",
              "      <td>SQL. STATISTICS. PROGRAMMING. DATA WRANGLING. ...</td>\n",
              "    </tr>\n",
              "    <tr>\n",
              "      <th>7</th>\n",
              "      <td>Candidate_8.txt</td>\n",
              "      <td>Melanie Keller</td>\n",
              "      <td>1.0</td>\n",
              "      <td>PYTHON</td>\n",
              "    </tr>\n",
              "    <tr>\n",
              "      <th>8</th>\n",
              "      <td>Candidate_9.txt</td>\n",
              "      <td>Susan Salmon</td>\n",
              "      <td>4.0</td>\n",
              "      <td>SQL. STATISTICS. PROGRAMMING. CALCULUS</td>\n",
              "    </tr>\n",
              "    <tr>\n",
              "      <th>9</th>\n",
              "      <td>Candidate_10.txt</td>\n",
              "      <td>Thomas Adler</td>\n",
              "      <td>0.0</td>\n",
              "      <td></td>\n",
              "    </tr>\n",
              "    <tr>\n",
              "      <th>10</th>\n",
              "      <td>Candidate_11.txt</td>\n",
              "      <td>Thomas Gasper</td>\n",
              "      <td>7.0</td>\n",
              "      <td>R. PYTHON. SQL. STATISTICS. PROGRAMMING. MACHI...</td>\n",
              "    </tr>\n",
              "    <tr>\n",
              "      <th>11</th>\n",
              "      <td>Candidate_12.txt</td>\n",
              "      <td>Rajesh Koothrappali</td>\n",
              "      <td>4.0</td>\n",
              "      <td>R. STATISTICS. MACHINE LEARNING. CALCULUS</td>\n",
              "    </tr>\n",
              "    <tr>\n",
              "      <th>12</th>\n",
              "      <td>Candidate_13.txt</td>\n",
              "      <td>Alice Gonzales</td>\n",
              "      <td>6.0</td>\n",
              "      <td>R. PYTHON. SQL. PROGRAMMING. DATA WRANGLING. M...</td>\n",
              "    </tr>\n",
              "    <tr>\n",
              "      <th>13</th>\n",
              "      <td>Candidate_14.txt</td>\n",
              "      <td>Jair Bolsonaro</td>\n",
              "      <td>2.0</td>\n",
              "      <td>PYTHON. SQL</td>\n",
              "    </tr>\n",
              "    <tr>\n",
              "      <th>14</th>\n",
              "      <td>Candidate_15.txt</td>\n",
              "      <td>Justin Adams</td>\n",
              "      <td>5.0</td>\n",
              "      <td>R. SQL. STATISTICS. DATA WRANGLING. MACHINE LE...</td>\n",
              "    </tr>\n",
              "  </tbody>\n",
              "</table>\n",
              "</div>"
            ],
            "text/plain": [
              "                File                 Name  Score  \\\n",
              "0    Candidate_1.txt       Ana Cavalcante    0.0   \n",
              "1    Candidate_2.txt         Andrea Faria    2.0   \n",
              "2    Candidate_3.txt        Agnes Navarro    3.0   \n",
              "3    Candidate_4.txt      Cintia Oliveira    3.0   \n",
              "4    Candidate_5.txt          Julian Solo    4.0   \n",
              "5    Candidate_6.txt          John Carter    5.0   \n",
              "6    Candidate_7.txt        Jesse Balduco    6.0   \n",
              "7    Candidate_8.txt       Melanie Keller    1.0   \n",
              "8    Candidate_9.txt         Susan Salmon    4.0   \n",
              "9   Candidate_10.txt         Thomas Adler    0.0   \n",
              "10  Candidate_11.txt        Thomas Gasper    7.0   \n",
              "11  Candidate_12.txt  Rajesh Koothrappali    4.0   \n",
              "12  Candidate_13.txt       Alice Gonzales    6.0   \n",
              "13  Candidate_14.txt       Jair Bolsonaro    2.0   \n",
              "14  Candidate_15.txt         Justin Adams    5.0   \n",
              "\n",
              "                                               Skills  \n",
              "0                                                      \n",
              "1                                           R. PYTHON  \n",
              "2                                      R. PYTHON. SQL  \n",
              "3                             R. STATISTICS. CALCULUS  \n",
              "4                     R. PYTHON. STATISTICS. CALCULUS  \n",
              "5   R. PYTHON. PROGRAMMING. DATA WRANGLING. MACHIN...  \n",
              "6   SQL. STATISTICS. PROGRAMMING. DATA WRANGLING. ...  \n",
              "7                                              PYTHON  \n",
              "8              SQL. STATISTICS. PROGRAMMING. CALCULUS  \n",
              "9                                                      \n",
              "10  R. PYTHON. SQL. STATISTICS. PROGRAMMING. MACHI...  \n",
              "11          R. STATISTICS. MACHINE LEARNING. CALCULUS  \n",
              "12  R. PYTHON. SQL. PROGRAMMING. DATA WRANGLING. M...  \n",
              "13                                        PYTHON. SQL  \n",
              "14  R. SQL. STATISTICS. DATA WRANGLING. MACHINE LE...  "
            ]
          },
          "execution_count": 19,
          "metadata": {},
          "output_type": "execute_result"
        }
      ],
      "source": [
        "candidate_ranking = pd.DataFrame({\n",
        "    'File': candidates['File Name'],\n",
        "    'Name': candidates['Candidate Name'],\n",
        "    'Score': candidate_score, \n",
        "    'Skills': List_of_skills,\n",
        "})\n",
        "candidate_ranking"
      ]
    },
    {
      "cell_type": "markdown",
      "id": "0892cf97",
      "metadata": {
        "id": "0892cf97"
      },
      "source": [
        "Sorting the DataFrame by the column 'Score' in a ascending order."
      ]
    },
    {
      "cell_type": "code",
      "execution_count": null,
      "id": "bb7c15ce",
      "metadata": {
        "id": "bb7c15ce",
        "outputId": "16c599b0-26eb-4559-acbf-f0748e8d0bf6"
      },
      "outputs": [
        {
          "data": {
            "text/html": [
              "<div>\n",
              "<style scoped>\n",
              "    .dataframe tbody tr th:only-of-type {\n",
              "        vertical-align: middle;\n",
              "    }\n",
              "\n",
              "    .dataframe tbody tr th {\n",
              "        vertical-align: top;\n",
              "    }\n",
              "\n",
              "    .dataframe thead th {\n",
              "        text-align: right;\n",
              "    }\n",
              "</style>\n",
              "<table border=\"1\" class=\"dataframe\">\n",
              "  <thead>\n",
              "    <tr style=\"text-align: right;\">\n",
              "      <th></th>\n",
              "      <th>File</th>\n",
              "      <th>Name</th>\n",
              "      <th>Score</th>\n",
              "      <th>Skills</th>\n",
              "    </tr>\n",
              "  </thead>\n",
              "  <tbody>\n",
              "    <tr>\n",
              "      <th>10</th>\n",
              "      <td>Candidate_11.txt</td>\n",
              "      <td>Thomas Gasper</td>\n",
              "      <td>7.0</td>\n",
              "      <td>R. PYTHON. SQL. STATISTICS. PROGRAMMING. MACHI...</td>\n",
              "    </tr>\n",
              "    <tr>\n",
              "      <th>6</th>\n",
              "      <td>Candidate_7.txt</td>\n",
              "      <td>Jesse Balduco</td>\n",
              "      <td>6.0</td>\n",
              "      <td>SQL. STATISTICS. PROGRAMMING. DATA WRANGLING. ...</td>\n",
              "    </tr>\n",
              "    <tr>\n",
              "      <th>12</th>\n",
              "      <td>Candidate_13.txt</td>\n",
              "      <td>Alice Gonzales</td>\n",
              "      <td>6.0</td>\n",
              "      <td>R. PYTHON. SQL. PROGRAMMING. DATA WRANGLING. M...</td>\n",
              "    </tr>\n",
              "    <tr>\n",
              "      <th>5</th>\n",
              "      <td>Candidate_6.txt</td>\n",
              "      <td>John Carter</td>\n",
              "      <td>5.0</td>\n",
              "      <td>R. PYTHON. PROGRAMMING. DATA WRANGLING. MACHIN...</td>\n",
              "    </tr>\n",
              "    <tr>\n",
              "      <th>14</th>\n",
              "      <td>Candidate_15.txt</td>\n",
              "      <td>Justin Adams</td>\n",
              "      <td>5.0</td>\n",
              "      <td>R. SQL. STATISTICS. DATA WRANGLING. MACHINE LE...</td>\n",
              "    </tr>\n",
              "    <tr>\n",
              "      <th>4</th>\n",
              "      <td>Candidate_5.txt</td>\n",
              "      <td>Julian Solo</td>\n",
              "      <td>4.0</td>\n",
              "      <td>R. PYTHON. STATISTICS. CALCULUS</td>\n",
              "    </tr>\n",
              "    <tr>\n",
              "      <th>8</th>\n",
              "      <td>Candidate_9.txt</td>\n",
              "      <td>Susan Salmon</td>\n",
              "      <td>4.0</td>\n",
              "      <td>SQL. STATISTICS. PROGRAMMING. CALCULUS</td>\n",
              "    </tr>\n",
              "    <tr>\n",
              "      <th>11</th>\n",
              "      <td>Candidate_12.txt</td>\n",
              "      <td>Rajesh Koothrappali</td>\n",
              "      <td>4.0</td>\n",
              "      <td>R. STATISTICS. MACHINE LEARNING. CALCULUS</td>\n",
              "    </tr>\n",
              "    <tr>\n",
              "      <th>2</th>\n",
              "      <td>Candidate_3.txt</td>\n",
              "      <td>Agnes Navarro</td>\n",
              "      <td>3.0</td>\n",
              "      <td>R. PYTHON. SQL</td>\n",
              "    </tr>\n",
              "    <tr>\n",
              "      <th>3</th>\n",
              "      <td>Candidate_4.txt</td>\n",
              "      <td>Cintia Oliveira</td>\n",
              "      <td>3.0</td>\n",
              "      <td>R. STATISTICS. CALCULUS</td>\n",
              "    </tr>\n",
              "    <tr>\n",
              "      <th>1</th>\n",
              "      <td>Candidate_2.txt</td>\n",
              "      <td>Andrea Faria</td>\n",
              "      <td>2.0</td>\n",
              "      <td>R. PYTHON</td>\n",
              "    </tr>\n",
              "    <tr>\n",
              "      <th>13</th>\n",
              "      <td>Candidate_14.txt</td>\n",
              "      <td>Jair Bolsonaro</td>\n",
              "      <td>2.0</td>\n",
              "      <td>PYTHON. SQL</td>\n",
              "    </tr>\n",
              "    <tr>\n",
              "      <th>7</th>\n",
              "      <td>Candidate_8.txt</td>\n",
              "      <td>Melanie Keller</td>\n",
              "      <td>1.0</td>\n",
              "      <td>PYTHON</td>\n",
              "    </tr>\n",
              "    <tr>\n",
              "      <th>0</th>\n",
              "      <td>Candidate_1.txt</td>\n",
              "      <td>Ana Cavalcante</td>\n",
              "      <td>0.0</td>\n",
              "      <td></td>\n",
              "    </tr>\n",
              "    <tr>\n",
              "      <th>9</th>\n",
              "      <td>Candidate_10.txt</td>\n",
              "      <td>Thomas Adler</td>\n",
              "      <td>0.0</td>\n",
              "      <td></td>\n",
              "    </tr>\n",
              "  </tbody>\n",
              "</table>\n",
              "</div>"
            ],
            "text/plain": [
              "                File                 Name  Score  \\\n",
              "10  Candidate_11.txt        Thomas Gasper    7.0   \n",
              "6    Candidate_7.txt        Jesse Balduco    6.0   \n",
              "12  Candidate_13.txt       Alice Gonzales    6.0   \n",
              "5    Candidate_6.txt          John Carter    5.0   \n",
              "14  Candidate_15.txt         Justin Adams    5.0   \n",
              "4    Candidate_5.txt          Julian Solo    4.0   \n",
              "8    Candidate_9.txt         Susan Salmon    4.0   \n",
              "11  Candidate_12.txt  Rajesh Koothrappali    4.0   \n",
              "2    Candidate_3.txt        Agnes Navarro    3.0   \n",
              "3    Candidate_4.txt      Cintia Oliveira    3.0   \n",
              "1    Candidate_2.txt         Andrea Faria    2.0   \n",
              "13  Candidate_14.txt       Jair Bolsonaro    2.0   \n",
              "7    Candidate_8.txt       Melanie Keller    1.0   \n",
              "0    Candidate_1.txt       Ana Cavalcante    0.0   \n",
              "9   Candidate_10.txt         Thomas Adler    0.0   \n",
              "\n",
              "                                               Skills  \n",
              "10  R. PYTHON. SQL. STATISTICS. PROGRAMMING. MACHI...  \n",
              "6   SQL. STATISTICS. PROGRAMMING. DATA WRANGLING. ...  \n",
              "12  R. PYTHON. SQL. PROGRAMMING. DATA WRANGLING. M...  \n",
              "5   R. PYTHON. PROGRAMMING. DATA WRANGLING. MACHIN...  \n",
              "14  R. SQL. STATISTICS. DATA WRANGLING. MACHINE LE...  \n",
              "4                     R. PYTHON. STATISTICS. CALCULUS  \n",
              "8              SQL. STATISTICS. PROGRAMMING. CALCULUS  \n",
              "11          R. STATISTICS. MACHINE LEARNING. CALCULUS  \n",
              "2                                      R. PYTHON. SQL  \n",
              "3                             R. STATISTICS. CALCULUS  \n",
              "1                                           R. PYTHON  \n",
              "13                                        PYTHON. SQL  \n",
              "7                                              PYTHON  \n",
              "0                                                      \n",
              "9                                                      "
            ]
          },
          "execution_count": 20,
          "metadata": {},
          "output_type": "execute_result"
        }
      ],
      "source": [
        "candidate_ranking = candidate_ranking.sort_values('Score', ascending = False)\n",
        "candidate_ranking"
      ]
    },
    {
      "cell_type": "markdown",
      "id": "f2522a76",
      "metadata": {
        "id": "f2522a76"
      },
      "source": [
        "Making another DataFrame just with the 5 first rows of candidate_ranking (the 5 best scores)"
      ]
    },
    {
      "cell_type": "code",
      "execution_count": null,
      "id": "bec8a2b6",
      "metadata": {
        "id": "bec8a2b6",
        "outputId": "30cfa6f1-b4d0-4cdb-b8f2-26d93ca52f39"
      },
      "outputs": [
        {
          "data": {
            "text/html": [
              "<div>\n",
              "<style scoped>\n",
              "    .dataframe tbody tr th:only-of-type {\n",
              "        vertical-align: middle;\n",
              "    }\n",
              "\n",
              "    .dataframe tbody tr th {\n",
              "        vertical-align: top;\n",
              "    }\n",
              "\n",
              "    .dataframe thead th {\n",
              "        text-align: right;\n",
              "    }\n",
              "</style>\n",
              "<table border=\"1\" class=\"dataframe\">\n",
              "  <thead>\n",
              "    <tr style=\"text-align: right;\">\n",
              "      <th></th>\n",
              "      <th>File</th>\n",
              "      <th>Name</th>\n",
              "      <th>Score</th>\n",
              "      <th>Skills</th>\n",
              "    </tr>\n",
              "  </thead>\n",
              "  <tbody>\n",
              "    <tr>\n",
              "      <th>10</th>\n",
              "      <td>Candidate_11.txt</td>\n",
              "      <td>Thomas Gasper</td>\n",
              "      <td>7.0</td>\n",
              "      <td>R. PYTHON. SQL. STATISTICS. PROGRAMMING. MACHI...</td>\n",
              "    </tr>\n",
              "    <tr>\n",
              "      <th>6</th>\n",
              "      <td>Candidate_7.txt</td>\n",
              "      <td>Jesse Balduco</td>\n",
              "      <td>6.0</td>\n",
              "      <td>SQL. STATISTICS. PROGRAMMING. DATA WRANGLING. ...</td>\n",
              "    </tr>\n",
              "    <tr>\n",
              "      <th>12</th>\n",
              "      <td>Candidate_13.txt</td>\n",
              "      <td>Alice Gonzales</td>\n",
              "      <td>6.0</td>\n",
              "      <td>R. PYTHON. SQL. PROGRAMMING. DATA WRANGLING. M...</td>\n",
              "    </tr>\n",
              "    <tr>\n",
              "      <th>5</th>\n",
              "      <td>Candidate_6.txt</td>\n",
              "      <td>John Carter</td>\n",
              "      <td>5.0</td>\n",
              "      <td>R. PYTHON. PROGRAMMING. DATA WRANGLING. MACHIN...</td>\n",
              "    </tr>\n",
              "    <tr>\n",
              "      <th>14</th>\n",
              "      <td>Candidate_15.txt</td>\n",
              "      <td>Justin Adams</td>\n",
              "      <td>5.0</td>\n",
              "      <td>R. SQL. STATISTICS. DATA WRANGLING. MACHINE LE...</td>\n",
              "    </tr>\n",
              "  </tbody>\n",
              "</table>\n",
              "</div>"
            ],
            "text/plain": [
              "                File            Name  Score  \\\n",
              "10  Candidate_11.txt   Thomas Gasper    7.0   \n",
              "6    Candidate_7.txt   Jesse Balduco    6.0   \n",
              "12  Candidate_13.txt  Alice Gonzales    6.0   \n",
              "5    Candidate_6.txt     John Carter    5.0   \n",
              "14  Candidate_15.txt    Justin Adams    5.0   \n",
              "\n",
              "                                               Skills  \n",
              "10  R. PYTHON. SQL. STATISTICS. PROGRAMMING. MACHI...  \n",
              "6   SQL. STATISTICS. PROGRAMMING. DATA WRANGLING. ...  \n",
              "12  R. PYTHON. SQL. PROGRAMMING. DATA WRANGLING. M...  \n",
              "5   R. PYTHON. PROGRAMMING. DATA WRANGLING. MACHIN...  \n",
              "14  R. SQL. STATISTICS. DATA WRANGLING. MACHINE LE...  "
            ]
          },
          "execution_count": 21,
          "metadata": {},
          "output_type": "execute_result"
        }
      ],
      "source": [
        "Best_scores = candidate_ranking.head(n=5)\n",
        "Best_scores"
      ]
    },
    {
      "cell_type": "markdown",
      "id": "59f63c1e",
      "metadata": {
        "id": "59f63c1e"
      },
      "source": [
        "Creating a CSV file with the columns Name, Score and Skills."
      ]
    },
    {
      "cell_type": "code",
      "execution_count": null,
      "id": "a6cc84af",
      "metadata": {
        "id": "a6cc84af"
      },
      "outputs": [],
      "source": [
        "Best_scores.to_csv('ToAccept.csv', columns = ['Name', 'Score', 'Skills'])"
      ]
    },
    {
      "cell_type": "markdown",
      "id": "b3800d6d",
      "metadata": {
        "id": "b3800d6d"
      },
      "source": [
        "Reading the file we have just created."
      ]
    },
    {
      "cell_type": "code",
      "execution_count": null,
      "id": "d2c4d0a3",
      "metadata": {
        "id": "d2c4d0a3",
        "outputId": "fa1b91ad-ccaf-48b7-bdcc-3b4e96929886"
      },
      "outputs": [
        {
          "data": {
            "text/html": [
              "<div>\n",
              "<style scoped>\n",
              "    .dataframe tbody tr th:only-of-type {\n",
              "        vertical-align: middle;\n",
              "    }\n",
              "\n",
              "    .dataframe tbody tr th {\n",
              "        vertical-align: top;\n",
              "    }\n",
              "\n",
              "    .dataframe thead th {\n",
              "        text-align: right;\n",
              "    }\n",
              "</style>\n",
              "<table border=\"1\" class=\"dataframe\">\n",
              "  <thead>\n",
              "    <tr style=\"text-align: right;\">\n",
              "      <th></th>\n",
              "      <th>Unnamed: 0</th>\n",
              "      <th>Name</th>\n",
              "      <th>Score</th>\n",
              "      <th>Skills</th>\n",
              "    </tr>\n",
              "  </thead>\n",
              "  <tbody>\n",
              "    <tr>\n",
              "      <th>0</th>\n",
              "      <td>10</td>\n",
              "      <td>Thomas Gasper</td>\n",
              "      <td>7.0</td>\n",
              "      <td>R. PYTHON. SQL. STATISTICS. PROGRAMMING. MACHI...</td>\n",
              "    </tr>\n",
              "    <tr>\n",
              "      <th>1</th>\n",
              "      <td>6</td>\n",
              "      <td>Jesse Balduco</td>\n",
              "      <td>6.0</td>\n",
              "      <td>SQL. STATISTICS. PROGRAMMING. DATA WRANGLING. ...</td>\n",
              "    </tr>\n",
              "    <tr>\n",
              "      <th>2</th>\n",
              "      <td>12</td>\n",
              "      <td>Alice Gonzales</td>\n",
              "      <td>6.0</td>\n",
              "      <td>R. PYTHON. SQL. PROGRAMMING. DATA WRANGLING. M...</td>\n",
              "    </tr>\n",
              "    <tr>\n",
              "      <th>3</th>\n",
              "      <td>5</td>\n",
              "      <td>John Carter</td>\n",
              "      <td>5.0</td>\n",
              "      <td>R. PYTHON. PROGRAMMING. DATA WRANGLING. MACHIN...</td>\n",
              "    </tr>\n",
              "    <tr>\n",
              "      <th>4</th>\n",
              "      <td>14</td>\n",
              "      <td>Justin Adams</td>\n",
              "      <td>5.0</td>\n",
              "      <td>R. SQL. STATISTICS. DATA WRANGLING. MACHINE LE...</td>\n",
              "    </tr>\n",
              "  </tbody>\n",
              "</table>\n",
              "</div>"
            ],
            "text/plain": [
              "   Unnamed: 0            Name  Score  \\\n",
              "0          10   Thomas Gasper    7.0   \n",
              "1           6   Jesse Balduco    6.0   \n",
              "2          12  Alice Gonzales    6.0   \n",
              "3           5     John Carter    5.0   \n",
              "4          14    Justin Adams    5.0   \n",
              "\n",
              "                                              Skills  \n",
              "0  R. PYTHON. SQL. STATISTICS. PROGRAMMING. MACHI...  \n",
              "1  SQL. STATISTICS. PROGRAMMING. DATA WRANGLING. ...  \n",
              "2  R. PYTHON. SQL. PROGRAMMING. DATA WRANGLING. M...  \n",
              "3  R. PYTHON. PROGRAMMING. DATA WRANGLING. MACHIN...  \n",
              "4  R. SQL. STATISTICS. DATA WRANGLING. MACHINE LE...  "
            ]
          },
          "execution_count": 23,
          "metadata": {},
          "output_type": "execute_result"
        }
      ],
      "source": [
        "ToAccept = pd.read_csv('ToAccept.csv')\n",
        "ToAccept.head()"
      ]
    },
    {
      "cell_type": "markdown",
      "id": "b193e1a8",
      "metadata": {
        "id": "b193e1a8"
      },
      "source": [
        "## Advanced "
      ]
    },
    {
      "cell_type": "markdown",
      "id": "5cc5a5e4",
      "metadata": {
        "id": "5cc5a5e4"
      },
      "source": [
        "Now we are going to improve our model using more data. We will add 2 points for those who the GPA is equal or higher than 4.5 and just one point if it is higher or equal to 3.5. "
      ]
    },
    {
      "cell_type": "markdown",
      "id": "c5feaaf5",
      "metadata": {
        "id": "c5feaaf5"
      },
      "source": [
        "The function get_GPA looks for the GPA and return 2 if it is equal or higher than 4.5, 1 if it is equal or higher than 3.5 and zero if it is lower than 3.5 (the candidate get no extra points on this case)."
      ]
    },
    {
      "cell_type": "code",
      "execution_count": null,
      "id": "256e7e44",
      "metadata": {
        "id": "256e7e44"
      },
      "outputs": [],
      "source": [
        "def get_GPA(n):\n",
        "    form = open(candidates['File Name'][n], 'r')\n",
        "    candidate_form = form.read()\n",
        "    GPA =float(re.search(r'GPA:(?:\\s)*(?:\\n)*(.*?)(?:\\s)*(?:\\n)*Academic', candidate_form).group(1))\n",
        "    form.close()\n",
        "    if GPA>=4.5: \n",
        "        return 2\n",
        "    if GPA>=3.5:\n",
        "        return 1\n",
        "    else:\n",
        "        return 0"
      ]
    },
    {
      "cell_type": "markdown",
      "id": "d6b4e8b1",
      "metadata": {
        "id": "d6b4e8b1"
      },
      "source": [
        "The candidate score before the extra points is showed below."
      ]
    },
    {
      "cell_type": "code",
      "execution_count": null,
      "id": "bd22b94b",
      "metadata": {
        "id": "bd22b94b",
        "outputId": "bf34a4e8-9f81-47fb-ed57-a605e7dbdaf9"
      },
      "outputs": [
        {
          "data": {
            "text/plain": [
              "array([0., 2., 3., 3., 4., 5., 6., 1., 4., 0., 7., 4., 6., 2., 5.])"
            ]
          },
          "execution_count": 25,
          "metadata": {},
          "output_type": "execute_result"
        }
      ],
      "source": [
        "candidate_score"
      ]
    },
    {
      "cell_type": "markdown",
      "id": "f5258a4c",
      "metadata": {
        "id": "f5258a4c"
      },
      "source": [
        "This code calls the function get_GPA and add the extra points."
      ]
    },
    {
      "cell_type": "code",
      "execution_count": null,
      "id": "1f3872fa",
      "metadata": {
        "id": "1f3872fa"
      },
      "outputs": [],
      "source": [
        "for n_candidate in range(len(candidates)):\n",
        "    match = get_GPA(n_candidate)\n",
        "    candidate_score[n_candidate] = candidate_score[n_candidate] + match"
      ]
    },
    {
      "cell_type": "markdown",
      "id": "ac3391de",
      "metadata": {
        "id": "ac3391de"
      },
      "source": [
        "The candidate score after the extra points is showed below."
      ]
    },
    {
      "cell_type": "code",
      "execution_count": null,
      "id": "c8dbf334",
      "metadata": {
        "id": "c8dbf334",
        "outputId": "db051d89-86cd-4e70-d345-b54757399285"
      },
      "outputs": [
        {
          "data": {
            "text/plain": [
              "array([1., 4., 4., 4., 5., 7., 7., 2., 6., 0., 8., 6., 6., 2., 6.])"
            ]
          },
          "execution_count": 27,
          "metadata": {},
          "output_type": "execute_result"
        }
      ],
      "source": [
        "candidate_score"
      ]
    },
    {
      "cell_type": "markdown",
      "id": "55b297b8",
      "metadata": {
        "id": "55b297b8"
      },
      "source": [
        "The Data Science program also decided to add extra points for those who has studied some issues before. It will be one extra point for each course that is into the file Academic_records_extra.csv. It must be in the candidate's Academic Record."
      ]
    },
    {
      "cell_type": "markdown",
      "id": "e3f2ebf1",
      "metadata": {
        "id": "e3f2ebf1"
      },
      "source": [
        "We are reading the new criteria as academics"
      ]
    },
    {
      "cell_type": "code",
      "execution_count": null,
      "id": "18c66c5e",
      "metadata": {
        "id": "18c66c5e",
        "outputId": "a4ef78ca-5e3a-4d35-a926-9936e2e163ef"
      },
      "outputs": [
        {
          "data": {
            "text/html": [
              "<div>\n",
              "<style scoped>\n",
              "    .dataframe tbody tr th:only-of-type {\n",
              "        vertical-align: middle;\n",
              "    }\n",
              "\n",
              "    .dataframe tbody tr th {\n",
              "        vertical-align: top;\n",
              "    }\n",
              "\n",
              "    .dataframe thead th {\n",
              "        text-align: right;\n",
              "    }\n",
              "</style>\n",
              "<table border=\"1\" class=\"dataframe\">\n",
              "  <thead>\n",
              "    <tr style=\"text-align: right;\">\n",
              "      <th></th>\n",
              "      <th>Education</th>\n",
              "    </tr>\n",
              "  </thead>\n",
              "  <tbody>\n",
              "    <tr>\n",
              "      <th>0</th>\n",
              "      <td>STATISTICS</td>\n",
              "    </tr>\n",
              "    <tr>\n",
              "      <th>1</th>\n",
              "      <td>COMPUTER SCIENCE</td>\n",
              "    </tr>\n",
              "    <tr>\n",
              "      <th>2</th>\n",
              "      <td>DATA SCIENCE</td>\n",
              "    </tr>\n",
              "  </tbody>\n",
              "</table>\n",
              "</div>"
            ],
            "text/plain": [
              "          Education\n",
              "0        STATISTICS\n",
              "1  COMPUTER SCIENCE\n",
              "2      DATA SCIENCE"
            ]
          },
          "execution_count": 28,
          "metadata": {},
          "output_type": "execute_result"
        }
      ],
      "source": [
        "academics = pd.read_csv('Academic_records_extra.csv')\n",
        "academics"
      ]
    },
    {
      "cell_type": "markdown",
      "id": "aa8eecca",
      "metadata": {
        "id": "aa8eecca"
      },
      "source": [
        "The function below looks for the academic record and then try to find the Education criterias on them."
      ]
    },
    {
      "cell_type": "code",
      "execution_count": null,
      "id": "17a3dfa1",
      "metadata": {
        "id": "17a3dfa1"
      },
      "outputs": [],
      "source": [
        "def find_academic_record(academics, i):\n",
        "    form = open(candidates['File Name'][i], 'r')\n",
        "    candidate_form = form.read()\n",
        "    #First, the field \"Academic Record\" are separaded in the variavel education\n",
        "    education =re.search(r'Record:(?:\\s)*(?:\\n)*(.*?)(?:\\s)*(?:\\n)*Skills:', candidate_form).group(1)\n",
        "    #The funtion below makes all the text in upper case, so it can match lower and upper cases \n",
        "    education =  ' '+ education.upper()\n",
        "    #The code below find the criteria on the field Skills, that is into skills_of_candidate\n",
        "    regex = r'(?:\\s)' + academics + r'[\\s,.]'\n",
        "    match=re.findall(regex,education)\n",
        "    form.close()\n",
        "    #if there was a match, it will return 1, which will be added to the score of the candidate\n",
        "    #if there was not a match, it will be zero\n",
        "    if match: \n",
        "        return 1\n",
        "    else:\n",
        "        return 0"
      ]
    },
    {
      "cell_type": "markdown",
      "id": "fb7e6e9a",
      "metadata": {
        "id": "fb7e6e9a"
      },
      "source": [
        "The code below calls the function find_academic_record and add one point for each match of education find on the field \"Academic Record\"."
      ]
    },
    {
      "cell_type": "code",
      "execution_count": null,
      "id": "9cf2a456",
      "metadata": {
        "id": "9cf2a456"
      },
      "outputs": [],
      "source": [
        "for acad in range(len(academics)):\n",
        "    for n_candidate in range(len(candidates)):\n",
        "        match = find_academic_record(academics['Education'][acad], n_candidate)\n",
        "        candidate_score[n_candidate] = candidate_score[n_candidate] + match"
      ]
    },
    {
      "cell_type": "code",
      "execution_count": null,
      "id": "5dbb1970",
      "metadata": {
        "id": "5dbb1970",
        "outputId": "f9615355-dbe4-493d-f468-bcb34c2f76a3"
      },
      "outputs": [
        {
          "data": {
            "text/plain": [
              "array([1., 5., 4., 4., 5., 8., 8., 2., 7., 0., 9., 6., 7., 2., 6.])"
            ]
          },
          "execution_count": 31,
          "metadata": {},
          "output_type": "execute_result"
        }
      ],
      "source": [
        "candidate_score"
      ]
    },
    {
      "cell_type": "markdown",
      "id": "a2291de3",
      "metadata": {
        "id": "a2291de3"
      },
      "source": [
        "The code below creates a DataFrame with the name of the candidate and their new score."
      ]
    },
    {
      "cell_type": "code",
      "execution_count": null,
      "id": "ab2aa117",
      "metadata": {
        "id": "ab2aa117",
        "outputId": "67a9b7c7-38a2-4158-9cde-7e363ed8bb69"
      },
      "outputs": [
        {
          "data": {
            "text/html": [
              "<div>\n",
              "<style scoped>\n",
              "    .dataframe tbody tr th:only-of-type {\n",
              "        vertical-align: middle;\n",
              "    }\n",
              "\n",
              "    .dataframe tbody tr th {\n",
              "        vertical-align: top;\n",
              "    }\n",
              "\n",
              "    .dataframe thead th {\n",
              "        text-align: right;\n",
              "    }\n",
              "</style>\n",
              "<table border=\"1\" class=\"dataframe\">\n",
              "  <thead>\n",
              "    <tr style=\"text-align: right;\">\n",
              "      <th></th>\n",
              "      <th>Name</th>\n",
              "      <th>Score</th>\n",
              "    </tr>\n",
              "  </thead>\n",
              "  <tbody>\n",
              "    <tr>\n",
              "      <th>0</th>\n",
              "      <td>Ana Cavalcante</td>\n",
              "      <td>1.0</td>\n",
              "    </tr>\n",
              "    <tr>\n",
              "      <th>1</th>\n",
              "      <td>Andrea Faria</td>\n",
              "      <td>5.0</td>\n",
              "    </tr>\n",
              "    <tr>\n",
              "      <th>2</th>\n",
              "      <td>Agnes Navarro</td>\n",
              "      <td>4.0</td>\n",
              "    </tr>\n",
              "    <tr>\n",
              "      <th>3</th>\n",
              "      <td>Cintia Oliveira</td>\n",
              "      <td>4.0</td>\n",
              "    </tr>\n",
              "    <tr>\n",
              "      <th>4</th>\n",
              "      <td>Julian Solo</td>\n",
              "      <td>5.0</td>\n",
              "    </tr>\n",
              "    <tr>\n",
              "      <th>5</th>\n",
              "      <td>John Carter</td>\n",
              "      <td>8.0</td>\n",
              "    </tr>\n",
              "    <tr>\n",
              "      <th>6</th>\n",
              "      <td>Jesse Balduco</td>\n",
              "      <td>8.0</td>\n",
              "    </tr>\n",
              "    <tr>\n",
              "      <th>7</th>\n",
              "      <td>Melanie Keller</td>\n",
              "      <td>2.0</td>\n",
              "    </tr>\n",
              "    <tr>\n",
              "      <th>8</th>\n",
              "      <td>Susan Salmon</td>\n",
              "      <td>7.0</td>\n",
              "    </tr>\n",
              "    <tr>\n",
              "      <th>9</th>\n",
              "      <td>Thomas Adler</td>\n",
              "      <td>0.0</td>\n",
              "    </tr>\n",
              "    <tr>\n",
              "      <th>10</th>\n",
              "      <td>Thomas Gasper</td>\n",
              "      <td>9.0</td>\n",
              "    </tr>\n",
              "    <tr>\n",
              "      <th>11</th>\n",
              "      <td>Rajesh Koothrappali</td>\n",
              "      <td>6.0</td>\n",
              "    </tr>\n",
              "    <tr>\n",
              "      <th>12</th>\n",
              "      <td>Alice Gonzales</td>\n",
              "      <td>7.0</td>\n",
              "    </tr>\n",
              "    <tr>\n",
              "      <th>13</th>\n",
              "      <td>Jair Bolsonaro</td>\n",
              "      <td>2.0</td>\n",
              "    </tr>\n",
              "    <tr>\n",
              "      <th>14</th>\n",
              "      <td>Justin Adams</td>\n",
              "      <td>6.0</td>\n",
              "    </tr>\n",
              "  </tbody>\n",
              "</table>\n",
              "</div>"
            ],
            "text/plain": [
              "                   Name  Score\n",
              "0        Ana Cavalcante    1.0\n",
              "1          Andrea Faria    5.0\n",
              "2         Agnes Navarro    4.0\n",
              "3       Cintia Oliveira    4.0\n",
              "4           Julian Solo    5.0\n",
              "5           John Carter    8.0\n",
              "6         Jesse Balduco    8.0\n",
              "7        Melanie Keller    2.0\n",
              "8          Susan Salmon    7.0\n",
              "9          Thomas Adler    0.0\n",
              "10        Thomas Gasper    9.0\n",
              "11  Rajesh Koothrappali    6.0\n",
              "12       Alice Gonzales    7.0\n",
              "13       Jair Bolsonaro    2.0\n",
              "14         Justin Adams    6.0"
            ]
          },
          "execution_count": 32,
          "metadata": {},
          "output_type": "execute_result"
        }
      ],
      "source": [
        "candidate_new_ranking = pd.DataFrame({\n",
        "    'Name': candidates['Candidate Name'],\n",
        "    'Score': candidate_score, \n",
        "})\n",
        "candidate_new_ranking"
      ]
    },
    {
      "cell_type": "markdown",
      "id": "a701700f",
      "metadata": {
        "id": "a701700f"
      },
      "source": [
        "Sorting the new ranking in a descending order."
      ]
    },
    {
      "cell_type": "code",
      "execution_count": null,
      "id": "0d710443",
      "metadata": {
        "id": "0d710443",
        "outputId": "ce529960-6769-40c2-fe2c-dc1988df82c0"
      },
      "outputs": [
        {
          "data": {
            "text/html": [
              "<div>\n",
              "<style scoped>\n",
              "    .dataframe tbody tr th:only-of-type {\n",
              "        vertical-align: middle;\n",
              "    }\n",
              "\n",
              "    .dataframe tbody tr th {\n",
              "        vertical-align: top;\n",
              "    }\n",
              "\n",
              "    .dataframe thead th {\n",
              "        text-align: right;\n",
              "    }\n",
              "</style>\n",
              "<table border=\"1\" class=\"dataframe\">\n",
              "  <thead>\n",
              "    <tr style=\"text-align: right;\">\n",
              "      <th></th>\n",
              "      <th>Name</th>\n",
              "      <th>Score</th>\n",
              "    </tr>\n",
              "  </thead>\n",
              "  <tbody>\n",
              "    <tr>\n",
              "      <th>10</th>\n",
              "      <td>Thomas Gasper</td>\n",
              "      <td>9.0</td>\n",
              "    </tr>\n",
              "    <tr>\n",
              "      <th>5</th>\n",
              "      <td>John Carter</td>\n",
              "      <td>8.0</td>\n",
              "    </tr>\n",
              "    <tr>\n",
              "      <th>6</th>\n",
              "      <td>Jesse Balduco</td>\n",
              "      <td>8.0</td>\n",
              "    </tr>\n",
              "    <tr>\n",
              "      <th>8</th>\n",
              "      <td>Susan Salmon</td>\n",
              "      <td>7.0</td>\n",
              "    </tr>\n",
              "    <tr>\n",
              "      <th>12</th>\n",
              "      <td>Alice Gonzales</td>\n",
              "      <td>7.0</td>\n",
              "    </tr>\n",
              "    <tr>\n",
              "      <th>11</th>\n",
              "      <td>Rajesh Koothrappali</td>\n",
              "      <td>6.0</td>\n",
              "    </tr>\n",
              "    <tr>\n",
              "      <th>14</th>\n",
              "      <td>Justin Adams</td>\n",
              "      <td>6.0</td>\n",
              "    </tr>\n",
              "    <tr>\n",
              "      <th>1</th>\n",
              "      <td>Andrea Faria</td>\n",
              "      <td>5.0</td>\n",
              "    </tr>\n",
              "    <tr>\n",
              "      <th>4</th>\n",
              "      <td>Julian Solo</td>\n",
              "      <td>5.0</td>\n",
              "    </tr>\n",
              "    <tr>\n",
              "      <th>2</th>\n",
              "      <td>Agnes Navarro</td>\n",
              "      <td>4.0</td>\n",
              "    </tr>\n",
              "    <tr>\n",
              "      <th>3</th>\n",
              "      <td>Cintia Oliveira</td>\n",
              "      <td>4.0</td>\n",
              "    </tr>\n",
              "    <tr>\n",
              "      <th>7</th>\n",
              "      <td>Melanie Keller</td>\n",
              "      <td>2.0</td>\n",
              "    </tr>\n",
              "    <tr>\n",
              "      <th>13</th>\n",
              "      <td>Jair Bolsonaro</td>\n",
              "      <td>2.0</td>\n",
              "    </tr>\n",
              "    <tr>\n",
              "      <th>0</th>\n",
              "      <td>Ana Cavalcante</td>\n",
              "      <td>1.0</td>\n",
              "    </tr>\n",
              "    <tr>\n",
              "      <th>9</th>\n",
              "      <td>Thomas Adler</td>\n",
              "      <td>0.0</td>\n",
              "    </tr>\n",
              "  </tbody>\n",
              "</table>\n",
              "</div>"
            ],
            "text/plain": [
              "                   Name  Score\n",
              "10        Thomas Gasper    9.0\n",
              "5           John Carter    8.0\n",
              "6         Jesse Balduco    8.0\n",
              "8          Susan Salmon    7.0\n",
              "12       Alice Gonzales    7.0\n",
              "11  Rajesh Koothrappali    6.0\n",
              "14         Justin Adams    6.0\n",
              "1          Andrea Faria    5.0\n",
              "4           Julian Solo    5.0\n",
              "2         Agnes Navarro    4.0\n",
              "3       Cintia Oliveira    4.0\n",
              "7        Melanie Keller    2.0\n",
              "13       Jair Bolsonaro    2.0\n",
              "0        Ana Cavalcante    1.0\n",
              "9          Thomas Adler    0.0"
            ]
          },
          "execution_count": 33,
          "metadata": {},
          "output_type": "execute_result"
        }
      ],
      "source": [
        "candidate_new_ranking = candidate_new_ranking.sort_values('Score', ascending = False)\n",
        "candidate_new_ranking"
      ]
    },
    {
      "cell_type": "markdown",
      "id": "433e43c6",
      "metadata": {
        "id": "433e43c6"
      },
      "source": [
        "## Summary "
      ]
    },
    {
      "cell_type": "markdown",
      "source": [
        "Two models were developed for candidate selection. The first model only evaluates skills listed in the \"Skills\" field, while the second model assigns additional points based on academic records and GPA.\n",
        "\n",
        "As a result of the second model, there were changes in the candidates' rankings. Justin Adams, who was ranked fifth in the first model, did not make it to the top 5 in the new ranking. Susan Salmon, who had a GPA above 3.5 and a BA in Computer Science, two of the new criteria considered in the Academic Records evaluation, entered the top 5 list.\n",
        "\n",
        "Considering that the second model takes into account important characteristics that are ignored in the first model, we believe it is more appropriate for candidate selection."
      ],
      "metadata": {
        "id": "eq3igEHUajr2"
      },
      "id": "eq3igEHUajr2"
    }
  ],
  "metadata": {
    "kernelspec": {
      "display_name": "Python 3",
      "language": "python",
      "name": "python3"
    },
    "language_info": {
      "codemirror_mode": {
        "name": "ipython",
        "version": 3
      },
      "file_extension": ".py",
      "mimetype": "text/x-python",
      "name": "python",
      "nbconvert_exporter": "python",
      "pygments_lexer": "ipython3",
      "version": "3.8.8"
    },
    "colab": {
      "provenance": []
    }
  },
  "nbformat": 4,
  "nbformat_minor": 5
}